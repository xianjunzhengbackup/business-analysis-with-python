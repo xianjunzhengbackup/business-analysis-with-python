{
 "cells": [
  {
   "cell_type": "code",
   "execution_count": 11,
   "metadata": {},
   "outputs": [],
   "source": [
    "kHorizon = 20\n",
    "year = [i for i in range(1,kHorizon+1)]\n",
    "kSamplesize = 1000\n",
    "run =[i for i in range(1,kSamplesize+1)]\n",
    "kTaxRate = 38\n",
    "kDiscountRate = 12\n",
    "kDeprPer = 7"
   ]
  }
 ],
 "metadata": {
  "kernelspec": {
   "display_name": "Python 3",
   "language": "python",
   "name": "python3"
  },
  "language_info": {
   "codemirror_mode": {
    "name": "ipython",
    "version": 3
   },
   "file_extension": ".py",
   "mimetype": "text/x-python",
   "name": "python",
   "nbconvert_exporter": "python",
   "pygments_lexer": "ipython3",
   "version": "3.6.2"
  }
 },
 "nbformat": 4,
 "nbformat_minor": 2
}
